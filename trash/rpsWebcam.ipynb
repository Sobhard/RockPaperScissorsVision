{
 "cells": [
  {
   "cell_type": "code",
   "execution_count": 4,
   "metadata": {},
   "outputs": [
    {
     "data": {
      "text/plain": [
       "['yolo_30', 'yolo_37']"
      ]
     },
     "execution_count": 4,
     "metadata": {},
     "output_type": "execute_result"
    }
   ],
   "source": [
    "import cv2\n",
    "import matplotlib as plt\n",
    "\n",
    "model_cfg = \"custom-yolov4-tiny-detector.cfg\"  # Path to your YOLOv4-tiny cfg file\n",
    "model_weights = \"custom-yolov4-tiny-detector_last (5).weights\"  # Path to your YOLOv4-tiny weights file\n",
    "\n",
    "# Load the network using OpenCV's DNN module\n",
    "net = cv2.dnn.readNet(model_weights, model_cfg)\n",
    "\n",
    "layer_names = net.getLayerNames()\n",
    "output_layers = [layer_names[i - 1] for i in net.getUnconnectedOutLayers()]\n",
    "\n",
    "output_layers"
   ]
  },
  {
   "cell_type": "code",
   "execution_count": null,
   "metadata": {},
   "outputs": [],
   "source": [
    "cv2.imread()\n",
    "\n",
    "net.setInput()"
   ]
  }
 ],
 "metadata": {
  "kernelspec": {
   "display_name": "rpsObjDetecting",
   "language": "python",
   "name": "python3"
  },
  "language_info": {
   "codemirror_mode": {
    "name": "ipython",
    "version": 3
   },
   "file_extension": ".py",
   "mimetype": "text/x-python",
   "name": "python",
   "nbconvert_exporter": "python",
   "pygments_lexer": "ipython3",
   "version": "3.13.2"
  }
 },
 "nbformat": 4,
 "nbformat_minor": 2
}
